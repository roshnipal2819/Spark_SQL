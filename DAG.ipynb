{
 "cells": [
  {
   "cell_type": "code",
   "execution_count": 15,
   "id": "2251cadc-e1b0-4d86-b54f-17ca08ccd006",
   "metadata": {},
   "outputs": [
    {
     "name": "stdout",
     "output_type": "stream",
     "text": [
      "http://gypsum-gpu160.unity.rc.umass.edu:4042\n"
     ]
    },
    {
     "data": {
      "text/html": [
       "\n",
       "            <div>\n",
       "                <p><b>SparkSession - in-memory</b></p>\n",
       "                \n",
       "        <div>\n",
       "            <p><b>SparkContext</b></p>\n",
       "\n",
       "            <p><a href=\"http://gypsum-gpu160.unity.rc.umass.edu:4042\">Spark UI</a></p>\n",
       "\n",
       "            <dl>\n",
       "              <dt>Version</dt>\n",
       "                <dd><code>v3.5.4</code></dd>\n",
       "              <dt>Master</dt>\n",
       "                <dd><code>local[*]</code></dd>\n",
       "              <dt>AppName</dt>\n",
       "                <dd><code>DAG</code></dd>\n",
       "            </dl>\n",
       "        </div>\n",
       "        \n",
       "            </div>\n",
       "        "
      ],
      "text/plain": [
       "<pyspark.sql.session.SparkSession at 0x7409e0d62790>"
      ]
     },
     "execution_count": 15,
     "metadata": {},
     "output_type": "execute_result"
    }
   ],
   "source": [
    "from pyspark.sql import SparkSession\n",
    "\n",
    "spark = SparkSession.builder.appName(\"DAG\").master(\"local[*]\").config(\"spark.ui.port\", \"4042\").config(\"spark.executor.instances\", 4).config(\"spark.executor.cores\", 4).config(\"spark.executor.memory\", \"512M\").getOrCreate()\n",
    "\n",
    "print(spark.sparkContext.uiWebUrl)\n",
    "spark"
   ]
  },
  {
   "cell_type": "code",
   "execution_count": 16,
   "id": "b801a265-4c2f-4468-b3e4-f30208fd7571",
   "metadata": {},
   "outputs": [],
   "source": [
    "# Disable AQE and Broadcast join\n",
    "\n",
    "spark.conf.set(\"spark.sql.adaptive.enabled\", False)\n",
    "spark.conf.set(\"spark.sql.adaptive.coalescePartitions.enabled\", False)\n",
    "spark.conf.set(\"spark.sql.autoBroadcastJoinThreshold\", -1)\n"
   ]
  },
  {
   "cell_type": "code",
   "execution_count": 17,
   "id": "c150dcdf-951d-4a93-89b2-7e0ac455cbdd",
   "metadata": {},
   "outputs": [
    {
     "data": {
      "text/plain": [
       "4"
      ]
     },
     "execution_count": 17,
     "metadata": {},
     "output_type": "execute_result"
    }
   ],
   "source": [
    "# Check default Parallism\n",
    "\n",
    "spark.sparkContext.defaultParallelism"
   ]
  },
  {
   "cell_type": "code",
   "execution_count": 18,
   "id": "3ca09733-5ae7-461f-a8fa-0cbcc4bd8038",
   "metadata": {},
   "outputs": [],
   "source": [
    "# Create dataframes\n",
    "\n",
    "df_1 = spark.range(4, 200, 2)\n",
    "df_2 = spark.range(2, 200, 4)"
   ]
  },
  {
   "cell_type": "code",
   "execution_count": 19,
   "id": "9ed1bb5f-eae3-45ee-96a8-d52a99475465",
   "metadata": {},
   "outputs": [
    {
     "data": {
      "text/plain": [
       "4"
      ]
     },
     "execution_count": 19,
     "metadata": {},
     "output_type": "execute_result"
    }
   ],
   "source": [
    "df_2.rdd.getNumPartitions()"
   ]
  },
  {
   "cell_type": "code",
   "execution_count": 20,
   "id": "69c2cb11-ee67-4aa0-82ef-7ff9d810f9a6",
   "metadata": {},
   "outputs": [],
   "source": [
    "# Re-partition data\n",
    "\n",
    "df_3 = df_1.repartition(5)\n",
    "df_4 = df_2.repartition(7)"
   ]
  },
  {
   "cell_type": "code",
   "execution_count": 21,
   "id": "5725219a-b887-4b86-8bfa-d40d64f0cbb3",
   "metadata": {},
   "outputs": [
    {
     "data": {
      "text/plain": [
       "7"
      ]
     },
     "execution_count": 21,
     "metadata": {},
     "output_type": "execute_result"
    }
   ],
   "source": [
    "df_4.rdd.getNumPartitions()"
   ]
  },
  {
   "cell_type": "code",
   "execution_count": 22,
   "id": "f2bceeca-1707-4c51-8c0e-5fe676ca4ec4",
   "metadata": {},
   "outputs": [],
   "source": [
    "# Join the dataframes\n",
    "\n",
    "df_joined = df_3.join(df_4, on=\"id\")"
   ]
  },
  {
   "cell_type": "code",
   "execution_count": 23,
   "id": "145acef6-e17f-48f9-9afa-7885de2903f9",
   "metadata": {},
   "outputs": [],
   "source": [
    "# Get the sum of ids\n",
    "\n",
    "df_sum = df_joined.selectExpr(\"sum(id) as total_sum\")"
   ]
  },
  {
   "cell_type": "code",
   "execution_count": 24,
   "id": "579e0b7c-8236-45ed-a402-7faba537f916",
   "metadata": {},
   "outputs": [
    {
     "name": "stderr",
     "output_type": "stream",
     "text": [
      "[Stage 4:=========================================>             (151 + 5) / 200]\r"
     ]
    },
    {
     "name": "stdout",
     "output_type": "stream",
     "text": [
      "+---------+\n",
      "|total_sum|\n",
      "+---------+\n",
      "|     4998|\n",
      "+---------+\n",
      "\n"
     ]
    },
    {
     "name": "stderr",
     "output_type": "stream",
     "text": [
      "                                                                                \r"
     ]
    }
   ],
   "source": [
    "# View data\n",
    "df_sum.show()"
   ]
  },
  {
   "cell_type": "code",
   "execution_count": 25,
   "id": "32f8fd08-cb93-4e58-bbac-d5724e9b734c",
   "metadata": {},
   "outputs": [
    {
     "name": "stdout",
     "output_type": "stream",
     "text": [
      "== Physical Plan ==\n",
      "*(6) HashAggregate(keys=[], functions=[sum(id#122L)])\n",
      "+- Exchange SinglePartition, ENSURE_REQUIREMENTS, [plan_id=207]\n",
      "   +- *(5) HashAggregate(keys=[], functions=[partial_sum(id#122L)])\n",
      "      +- *(5) Project [id#122L]\n",
      "         +- *(5) SortMergeJoin [id#122L], [id#124L], Inner\n",
      "            :- *(2) Sort [id#122L ASC NULLS FIRST], false, 0\n",
      "            :  +- Exchange hashpartitioning(id#122L, 200), ENSURE_REQUIREMENTS, [plan_id=191]\n",
      "            :     +- Exchange RoundRobinPartitioning(5), REPARTITION_BY_NUM, [plan_id=190]\n",
      "            :        +- *(1) Range (4, 200, step=2, splits=4)\n",
      "            +- *(4) Sort [id#124L ASC NULLS FIRST], false, 0\n",
      "               +- Exchange hashpartitioning(id#124L, 200), ENSURE_REQUIREMENTS, [plan_id=198]\n",
      "                  +- Exchange RoundRobinPartitioning(7), REPARTITION_BY_NUM, [plan_id=197]\n",
      "                     +- *(3) Range (2, 200, step=4, splits=4)\n",
      "\n",
      "\n"
     ]
    }
   ],
   "source": [
    "# Explain plan\n",
    "\n",
    "df_sum.explain()"
   ]
  },
  {
   "cell_type": "code",
   "execution_count": 26,
   "id": "6d045eda-806d-44cf-aaa9-5a60c4ab2dbb",
   "metadata": {},
   "outputs": [],
   "source": [
    "# Union the data again to see the skipped stages\n",
    "\n",
    "df_union = df_sum.union(df_4)"
   ]
  },
  {
   "cell_type": "code",
   "execution_count": 27,
   "id": "fe4da29d-621f-4f64-be87-a060fa9c3b9c",
   "metadata": {},
   "outputs": [
    {
     "name": "stderr",
     "output_type": "stream",
     "text": [
      "[Stage 10:=======================================>              (145 + 6) / 200]\r"
     ]
    },
    {
     "name": "stdout",
     "output_type": "stream",
     "text": [
      "+---------+\n",
      "|total_sum|\n",
      "+---------+\n",
      "|     4998|\n",
      "|       38|\n",
      "|       18|\n",
      "|       66|\n",
      "|       70|\n",
      "|      110|\n",
      "|      170|\n",
      "|      154|\n",
      "|       10|\n",
      "|       74|\n",
      "|       62|\n",
      "|      118|\n",
      "|      198|\n",
      "|      158|\n",
      "|       30|\n",
      "|       98|\n",
      "|       82|\n",
      "|      146|\n",
      "|      142|\n",
      "|      150|\n",
      "+---------+\n",
      "only showing top 20 rows\n",
      "\n"
     ]
    },
    {
     "name": "stderr",
     "output_type": "stream",
     "text": [
      "                                                                                \r"
     ]
    }
   ],
   "source": [
    "df_union.show()"
   ]
  },
  {
   "cell_type": "code",
   "execution_count": 28,
   "id": "bfa176bd-2589-4e01-a3d3-f864d2d462d6",
   "metadata": {},
   "outputs": [
    {
     "name": "stdout",
     "output_type": "stream",
     "text": [
      "== Physical Plan ==\n",
      "Union\n",
      ":- *(6) HashAggregate(keys=[], functions=[sum(id#122L)])\n",
      ":  +- Exchange SinglePartition, ENSURE_REQUIREMENTS, [plan_id=445]\n",
      ":     +- *(5) HashAggregate(keys=[], functions=[partial_sum(id#122L)])\n",
      ":        +- *(5) Project [id#122L]\n",
      ":           +- *(5) SortMergeJoin [id#122L], [id#124L], Inner\n",
      ":              :- *(2) Sort [id#122L ASC NULLS FIRST], false, 0\n",
      ":              :  +- Exchange hashpartitioning(id#122L, 200), ENSURE_REQUIREMENTS, [plan_id=429]\n",
      ":              :     +- Exchange RoundRobinPartitioning(5), REPARTITION_BY_NUM, [plan_id=428]\n",
      ":              :        +- *(1) Range (4, 200, step=2, splits=4)\n",
      ":              +- *(4) Sort [id#124L ASC NULLS FIRST], false, 0\n",
      ":                 +- Exchange hashpartitioning(id#124L, 200), ENSURE_REQUIREMENTS, [plan_id=436]\n",
      ":                    +- Exchange RoundRobinPartitioning(7), REPARTITION_BY_NUM, [plan_id=435]\n",
      ":                       +- *(3) Range (2, 200, step=4, splits=4)\n",
      "+- ReusedExchange [id#143L], Exchange RoundRobinPartitioning(7), REPARTITION_BY_NUM, [plan_id=435]\n",
      "\n",
      "\n"
     ]
    }
   ],
   "source": [
    "# Explain plan\n",
    "\n",
    "df_union.explain()"
   ]
  }
 ],
 "metadata": {
  "kernelspec": {
   "display_name": "Python 3 (ipykernel)",
   "language": "python",
   "name": "python3"
  },
  "language_info": {
   "codemirror_mode": {
    "name": "ipython",
    "version": 3
   },
   "file_extension": ".py",
   "mimetype": "text/x-python",
   "name": "python",
   "nbconvert_exporter": "python",
   "pygments_lexer": "ipython3",
   "version": "3.11.0"
  },
  "toc-autonumbering": true,
  "toc-showmarkdowntxt": true,
  "toc-showtags": true
 },
 "nbformat": 4,
 "nbformat_minor": 5
}
