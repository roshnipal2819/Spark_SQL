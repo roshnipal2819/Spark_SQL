{
 "cells": [
  {
   "cell_type": "code",
   "execution_count": 67,
   "id": "2251cadc-e1b0-4d86-b54f-17ca08ccd006",
   "metadata": {},
   "outputs": [
    {
     "name": "stdout",
     "output_type": "stream",
     "text": [
      "http://ceewater-cpu001.unity.rc.umass.edu:4042\n"
     ]
    },
    {
     "data": {
      "text/html": [
       "\n",
       "            <div>\n",
       "                <p><b>SparkSession - in-memory</b></p>\n",
       "                \n",
       "        <div>\n",
       "            <p><b>SparkContext</b></p>\n",
       "\n",
       "            <p><a href=\"http://ceewater-cpu001.unity.rc.umass.edu:4042\">Spark UI</a></p>\n",
       "\n",
       "            <dl>\n",
       "              <dt>Version</dt>\n",
       "                <dd><code>v3.5.4</code></dd>\n",
       "              <dt>Master</dt>\n",
       "                <dd><code>local[*]</code></dd>\n",
       "              <dt>AppName</dt>\n",
       "                <dd><code>JSON_IN_PYSPARK</code></dd>\n",
       "            </dl>\n",
       "        </div>\n",
       "        \n",
       "            </div>\n",
       "        "
      ],
      "text/plain": [
       "<pyspark.sql.session.SparkSession at 0x74adf8156a90>"
      ]
     },
     "execution_count": 67,
     "metadata": {},
     "output_type": "execute_result"
    }
   ],
   "source": [
    "from pyspark.sql import SparkSession\n",
    "\n",
    "spark = (\n",
    "    SparkSession\n",
    "    .builder\n",
    "    .appName(\"JSON_IN_PYSPARK\")\n",
    "    .master(\"local[*]\").config(\"spark.ui.port\", \"4042\")\n",
    "    .getOrCreate()\n",
    ")\n",
    "print(spark.sparkContext.uiWebUrl)\n",
    "spark"
   ]
  },
  {
   "cell_type": "code",
   "execution_count": 61,
   "id": "1038be67-197b-4316-910d-fcff3b86b08f",
   "metadata": {},
   "outputs": [],
   "source": [
    "from pyspark.sql.types import StructType, StructField, StringType, DoubleType, StructType, TimestampType\n",
    "\n",
    "schema = StructType([\n",
    "    StructField(\"user_id\", StringType(), True),\n",
    "    StructField(\"name\", StringType(), True),\n",
    "    StructField(\"event\", StringType(), True),\n",
    "    StructField(\"amount\", DoubleType(), True),\n",
    "    StructField(\"currency\", StringType(), True),\n",
    "    StructField(\"location\", StructType([\n",
    "        StructField(\"lat\", DoubleType(), True),\n",
    "        StructField(\"long\", DoubleType(), True)\n",
    "    ])),\n",
    "    StructField(\"timestamp\", StringType(), True) \n",
    "])"
   ]
  },
  {
   "cell_type": "markdown",
   "id": "cae98ba3-83e6-40a4-b83a-3fdf3d3c2634",
   "metadata": {},
   "source": [
    "#### Method: from_json()"
   ]
  },
  {
   "cell_type": "code",
   "execution_count": 62,
   "id": "5ad85eba-b6e7-447b-bcdb-60f68ebc97bf",
   "metadata": {},
   "outputs": [
    {
     "name": "stdout",
     "output_type": "stream",
     "text": [
      "+-------------------------------------------------------------------------------------------------------------------------------------------------------------------------------------------------+--------------------------------------------------------------------------------------------+\n",
      "|json_event                                                                                                                                                                                       |parsed_data                                                                                 |\n",
      "+-------------------------------------------------------------------------------------------------------------------------------------------------------------------------------------------------+--------------------------------------------------------------------------------------------+\n",
      "|{\"user_id\": \"user_123\", \"name\": \"Alice Johnson\", \"event\": \"transaction\", \"amount\": 250.75, \"currency\": \"USD\", \"location\": {\"lat\": 40.7128, \"long\": -74.0060}, \"timestamp\": \"2025-03-19T14:30:00\"}|{user_123, Alice Johnson, transaction, 250.75, USD, {40.7128, -74.006}, 2025-03-19T14:30:00}|\n",
      "+-------------------------------------------------------------------------------------------------------------------------------------------------------------------------------------------------+--------------------------------------------------------------------------------------------+\n",
      "\n"
     ]
    }
   ],
   "source": [
    "from pyspark.sql.functions import from_json\n",
    "\n",
    "# Sample data received from Kafka\n",
    "data = [\n",
    "    ('{\"user_id\": \"user_123\", \"name\": \"Alice Johnson\", \"event\": \"transaction\", \"amount\": 250.75, \"currency\": \"USD\", \"location\": {\"lat\": 40.7128, \"long\": -74.0060}, \"timestamp\": \"2025-03-19T14:30:00\"}',)\n",
    "]\n",
    "\n",
    "df = spark.createDataFrame(data, [\"json_event\"])\n",
    "\n",
    "# Parse JSON\n",
    "df_parsed = df.withColumn(\"parsed_data\", from_json(\"json_event\", schema))\n",
    "df_parsed.show(truncate=False)"
   ]
  },
  {
   "cell_type": "code",
   "execution_count": 63,
   "id": "b173c2c4-d871-460c-bd3c-4ebbd3ce5c0d",
   "metadata": {
    "tags": []
   },
   "outputs": [
    {
     "name": "stdout",
     "output_type": "stream",
     "text": [
      "+--------+-------------+-----------+------+--------+-------+-------+-------------------+\n",
      "|user_id |name         |event      |amount|currency|lat    |long   |timestamp          |\n",
      "+--------+-------------+-----------+------+--------+-------+-------+-------------------+\n",
      "|user_123|Alice Johnson|transaction|250.75|USD     |40.7128|-74.006|2025-03-19T14:30:00|\n",
      "+--------+-------------+-----------+------+--------+-------+-------+-------------------+\n",
      "\n"
     ]
    }
   ],
   "source": [
    "df_final = df_parsed.select(\n",
    "    \"parsed_data.user_id\",\n",
    "    \"parsed_data.name\",\n",
    "    \"parsed_data.event\",\n",
    "    \"parsed_data.amount\",\n",
    "    \"parsed_data.currency\",\n",
    "    \"parsed_data.location.lat\",\n",
    "    \"parsed_data.location.long\",\n",
    "    \"parsed_data.timestamp\"\n",
    ")\n",
    "df_final.show(truncate=False)"
   ]
  },
  {
   "cell_type": "markdown",
   "id": "be07c1e3-caac-4385-81bc-ab28713354ba",
   "metadata": {},
   "source": [
    "#### Method: get_json_object()"
   ]
  },
  {
   "cell_type": "code",
   "execution_count": 64,
   "id": "93ce337f-c01d-4be8-b17e-9c8acd6634a1",
   "metadata": {},
   "outputs": [
    {
     "name": "stdout",
     "output_type": "stream",
     "text": [
      "+--------+------------------+--------+---------+-------------------+\n",
      "|user_id |transaction_amount|latitude|longitude|event_time         |\n",
      "+--------+------------------+--------+---------+-------------------+\n",
      "|user_123|250.75            |40.7128 |-74.006  |2025-03-19T14:30:00|\n",
      "+--------+------------------+--------+---------+-------------------+\n",
      "\n"
     ]
    }
   ],
   "source": [
    "from pyspark.sql.functions import get_json_object\n",
    "\n",
    "df_extracted = df.select(\n",
    "    get_json_object(\"json_event\", \"$.user_id\").alias(\"user_id\"),\n",
    "    get_json_object(\"json_event\", \"$.amount\").alias(\"transaction_amount\"),\n",
    "    get_json_object(\"json_event\", \"$.location.lat\").alias(\"latitude\"),\n",
    "    get_json_object(\"json_event\", \"$.location.long\").alias(\"longitude\"),\n",
    "    get_json_object(\"json_event\", \"$.timestamp\").alias(\"event_time\")\n",
    ")\n",
    "\n",
    "df_extracted.show(truncate=False)"
   ]
  },
  {
   "cell_type": "markdown",
   "id": "664c5af5-1f4a-4ad4-b61b-4855f9fa2ac2",
   "metadata": {},
   "source": [
    "#### Method: to_json()"
   ]
  },
  {
   "cell_type": "code",
   "execution_count": 65,
   "id": "ba1fdbe5-a19d-4cce-9beb-e1160a7e03c1",
   "metadata": {},
   "outputs": [
    {
     "name": "stdout",
     "output_type": "stream",
     "text": [
      "+--------+-------------+-----------+------+--------+-------+-------+-------------------+-------------------------------------------------------------------------------------------------------------------------------------------------------------------+\n",
      "|user_id |name         |event      |amount|currency|lat    |long   |timestamp          |json_output                                                                                                                                                        |\n",
      "+--------+-------------+-----------+------+--------+-------+-------+-------------------+-------------------------------------------------------------------------------------------------------------------------------------------------------------------+\n",
      "|user_123|Alice Johnson|transaction|250.75|USD     |40.7128|-74.006|2025-03-19T14:30:00|{\"user_id\":\"user_123\",\"name\":\"Alice Johnson\",\"event\":\"transaction\",\"amount\":250.75,\"currency\":\"USD\",\"lat\":40.7128,\"long\":-74.006,\"timestamp\":\"2025-03-19T14:30:00\"}|\n",
      "+--------+-------------+-----------+------+--------+-------+-------+-------------------+-------------------------------------------------------------------------------------------------------------------------------------------------------------------+\n",
      "\n"
     ]
    }
   ],
   "source": [
    "from pyspark.sql.functions import to_json, struct\n",
    "\n",
    "df_json = df_final.withColumn(\"json_output\", to_json(struct(\n",
    "    \"user_id\", \"name\", \"event\", \"amount\", \"currency\", \"lat\", \"long\", \"timestamp\"\n",
    ")))\n",
    "\n",
    "df_json.show(truncate=False)"
   ]
  },
  {
   "cell_type": "markdown",
   "id": "9279f1f0-8a80-47ed-97f4-e988c20f9f11",
   "metadata": {},
   "source": [
    "#### Method: json_tuple()"
   ]
  },
  {
   "cell_type": "code",
   "execution_count": 53,
   "id": "f2b376a3-8d43-47d4-af24-5580e1909a3a",
   "metadata": {},
   "outputs": [
    {
     "name": "stdout",
     "output_type": "stream",
     "text": [
      "+--------+-----------+------+-------------------+\n",
      "|user_id |event_type |amount|event_time         |\n",
      "+--------+-----------+------+-------------------+\n",
      "|user_123|transaction|250.75|2025-03-19T14:30:00|\n",
      "+--------+-----------+------+-------------------+\n",
      "\n"
     ]
    }
   ],
   "source": [
    "from pyspark.sql.functions import json_tuple, col\n",
    "\n",
    "df_extracted = df.select(json_tuple(col('json_event'), 'user_id', 'event', 'amount', 'timestamp')\n",
    "                         .alias('user_id', 'event_type', 'amount', 'event_time'))\n",
    "df_extracted.show(truncate=False)"
   ]
  },
  {
   "cell_type": "markdown",
   "id": "e37de996-714c-416c-86a3-fd8cd05bcafb",
   "metadata": {},
   "source": [
    "#### Method: schema_of_json()"
   ]
  },
  {
   "cell_type": "code",
   "execution_count": 60,
   "id": "bb8cad54-547a-44f1-8c02-86d8cd69f684",
   "metadata": {},
   "outputs": [
    {
     "name": "stdout",
     "output_type": "stream",
     "text": [
      "STRUCT<amount: DOUBLE, currency: STRING, event: STRING, location: STRUCT<lat: DOUBLE, long: DOUBLE>, name: STRING, timestamp: STRING, user_id: STRING>\n",
      "+------+--------+-----------+------------------+-------------+-------------------+--------+\n",
      "|amount|currency|event      |location          |name         |timestamp          |user_id |\n",
      "+------+--------+-----------+------------------+-------------+-------------------+--------+\n",
      "|250.75|USD     |transaction|{40.7128, -74.006}|Alice Johnson|2025-03-19T14:30:00|user_123|\n",
      "+------+--------+-----------+------------------+-------------+-------------------+--------+\n",
      "\n"
     ]
    }
   ],
   "source": [
    "from pyspark.sql.functions import from_json, schema_of_json\n",
    "\n",
    "sample_json = df.select(\"json_event\").limit(1).collect()[0][0]\n",
    "schema_inferred = df.select(schema_of_json(lit(sample_json))).collect()[0][0]\n",
    "print(schema_inferred)\n",
    "\n",
    "df_parsed = df.withColumn(\"parsed_data\", from_json(\"json_event\", schema_inferred))\n",
    "df_parsed.select(\"parsed_data.*\").show(truncate=False)\n"
   ]
  }
 ],
 "metadata": {
  "kernelspec": {
   "display_name": "Python 3 (ipykernel)",
   "language": "python",
   "name": "python3"
  },
  "language_info": {
   "codemirror_mode": {
    "name": "ipython",
    "version": 3
   },
   "file_extension": ".py",
   "mimetype": "text/x-python",
   "name": "python",
   "nbconvert_exporter": "python",
   "pygments_lexer": "ipython3",
   "version": "3.11.0"
  },
  "toc-autonumbering": true,
  "toc-showmarkdowntxt": true,
  "toc-showtags": true
 },
 "nbformat": 4,
 "nbformat_minor": 5
}
