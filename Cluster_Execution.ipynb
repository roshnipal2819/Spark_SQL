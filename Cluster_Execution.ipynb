{
 "cells": [
  {
   "cell_type": "code",
   "execution_count": 9,
   "id": "2251cadc-e1b0-4d86-b54f-17ca08ccd006",
   "metadata": {},
   "outputs": [
    {
     "name": "stdout",
     "output_type": "stream",
     "text": [
      "http://gypsum-gpu160.unity.rc.umass.edu:4042\n"
     ]
    },
    {
     "data": {
      "text/html": [
       "\n",
       "            <div>\n",
       "                <p><b>SparkSession - in-memory</b></p>\n",
       "                \n",
       "        <div>\n",
       "            <p><b>SparkContext</b></p>\n",
       "\n",
       "            <p><a href=\"http://gypsum-gpu160.unity.rc.umass.edu:4042\">Spark UI</a></p>\n",
       "\n",
       "            <dl>\n",
       "              <dt>Version</dt>\n",
       "                <dd><code>v3.5.4</code></dd>\n",
       "              <dt>Master</dt>\n",
       "                <dd><code>local[*]</code></dd>\n",
       "              <dt>AppName</dt>\n",
       "                <dd><code>Cluster_Execution</code></dd>\n",
       "            </dl>\n",
       "        </div>\n",
       "        \n",
       "            </div>\n",
       "        "
      ],
      "text/plain": [
       "<pyspark.sql.session.SparkSession at 0x7ade100fb250>"
      ]
     },
     "execution_count": 9,
     "metadata": {},
     "output_type": "execute_result"
    }
   ],
   "source": [
    "from pyspark.sql import SparkSession\n",
    "\n",
    "spark = SparkSession.builder.appName(\"Cluster_Execution\").master(\"local[*]\").config(\"spark.ui.port\", \"4042\").config(\"spark.executor.instances\", 4).config(\"spark.executor.cores\", 4).config(\"spark.executor.memory\", \"512M\").getOrCreate()\n",
    "\n",
    "print(spark.sparkContext.uiWebUrl)\n",
    "spark"
   ]
  },
  {
   "cell_type": "code",
   "execution_count": 10,
   "id": "b801a265-4c2f-4468-b3e4-f30208fd7571",
   "metadata": {},
   "outputs": [],
   "source": [
    "df = spark.range(10)"
   ]
  },
  {
   "cell_type": "code",
   "execution_count": 12,
   "id": "13e63aa5-eeb9-4a08-b5b4-09ca94a60b2e",
   "metadata": {},
   "outputs": [],
   "source": [
    "df.write.format(\"csv\").option(\"header\", True).save(\"data/output/range.csv\")"
   ]
  },
  {
   "cell_type": "code",
   "execution_count": null,
   "id": "b80dcdea-8e2c-408b-92fd-bdab12588d5a",
   "metadata": {},
   "outputs": [],
   "source": [
    "spark.stop()"
   ]
  }
 ],
 "metadata": {
  "kernelspec": {
   "display_name": "Python 3 (ipykernel)",
   "language": "python",
   "name": "python3"
  },
  "language_info": {
   "codemirror_mode": {
    "name": "ipython",
    "version": 3
   },
   "file_extension": ".py",
   "mimetype": "text/x-python",
   "name": "python",
   "nbconvert_exporter": "python",
   "pygments_lexer": "ipython3",
   "version": "3.11.0"
  },
  "toc-autonumbering": true,
  "toc-showmarkdowntxt": true,
  "toc-showtags": true
 },
 "nbformat": 4,
 "nbformat_minor": 5
}
