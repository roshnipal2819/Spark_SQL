{
 "cells": [
  {
   "cell_type": "code",
   "execution_count": 6,
   "id": "2251cadc-e1b0-4d86-b54f-17ca08ccd006",
   "metadata": {},
   "outputs": [
    {
     "name": "stdout",
     "output_type": "stream",
     "text": [
      "http://ceewater-cpu001.unity.rc.umass.edu:4042\n"
     ]
    },
    {
     "data": {
      "text/html": [
       "\n",
       "            <div>\n",
       "                <p><b>SparkSession - in-memory</b></p>\n",
       "                \n",
       "        <div>\n",
       "            <p><b>SparkContext</b></p>\n",
       "\n",
       "            <p><a href=\"http://ceewater-cpu001.unity.rc.umass.edu:4042\">Spark UI</a></p>\n",
       "\n",
       "            <dl>\n",
       "              <dt>Version</dt>\n",
       "                <dd><code>v3.5.4</code></dd>\n",
       "              <dt>Master</dt>\n",
       "                <dd><code>local[*]</code></dd>\n",
       "              <dt>AppName</dt>\n",
       "                <dd><code>JupyterHub-Spark</code></dd>\n",
       "            </dl>\n",
       "        </div>\n",
       "        \n",
       "            </div>\n",
       "        "
      ],
      "text/plain": [
       "<pyspark.sql.session.SparkSession at 0x71fbb3fea1d0>"
      ]
     },
     "execution_count": 6,
     "metadata": {},
     "output_type": "execute_result"
    }
   ],
   "source": [
    "from pyspark.sql import SparkSession\n",
    "\n",
    "spark = SparkSession.builder.appName(\"JupyterHub-Spark\").master(\"local[*]\").config(\"spark.ui.port\", \"4042\").getOrCreate()\n",
    "\n",
    "print(spark.sparkContext.uiWebUrl)\n",
    "spark"
   ]
  },
  {
   "cell_type": "code",
   "execution_count": 7,
   "id": "60bff325-e1e5-4bfb-89b3-80e6bc9d37e2",
   "metadata": {},
   "outputs": [],
   "source": [
    "emp_data = [\n",
    "    [\"001\",\"101\",\"John Doe\",\"30\",\"Male\",\"50000\",\"2015-01-01\"],\n",
    "    [\"002\",\"101\",\"Jane Smith\",\"25\",\"Female\",\"45000\",\"2016-02-15\"],\n",
    "    [\"003\",\"102\",\"Bob Brown\",\"35\",\"Male\",\"55000\",\"2014-05-01\"],\n",
    "    [\"004\",\"102\",\"Alice Lee\",\"28\",\"Female\",\"48000\",\"2017-09-30\"],\n",
    "    [\"005\",\"103\",\"Jack Chan\",\"40\",\"Male\",\"60000\",\"2013-04-01\"],\n",
    "    [\"006\",\"103\",\"Jill Wong\",\"32\",\"Female\",\"52000\",\"2018-07-01\"],\n",
    "    [\"007\",\"101\",\"James Johnson\",\"42\",\"Male\",\"70000\",\"2012-03-15\"],\n",
    "    [\"008\",\"102\",\"Kate Kim\",\"29\",\"Female\",\"51000\",\"2019-10-01\"],\n",
    "    [\"009\",\"103\",\"Tom Tan\",\"33\",\"Male\",\"58000\",\"2016-06-01\"],\n",
    "    [\"010\",\"104\",\"Lisa Lee\",\"27\",\"Female\",\"47000\",\"2018-08-01\"],\n",
    "    [\"011\",\"104\",\"David Park\",\"38\",\"Male\",\"65000\",\"2015-11-01\"],\n",
    "    [\"012\",\"105\",\"Susan Chen\",\"31\",\"Female\",\"54000\",\"2017-02-15\"],\n",
    "    [\"013\",\"106\",\"Brian Kim\",\"45\",\"Male\",\"75000\",\"2011-07-01\"],\n",
    "    [\"014\",\"107\",\"Emily Lee\",\"26\",\"Female\",\"46000\",\"2019-01-01\"],\n",
    "    [\"015\",\"106\",\"Michael Lee\",\"37\",\"Male\",\"63000\",\"2014-09-30\"],\n",
    "    [\"016\",\"107\",\"Kelly Zhang\",\"30\",\"Female\",\"49000\",\"2018-04-01\"],\n",
    "    [\"017\",\"105\",\"George Wang\",\"34\",\"Male\",\"57000\",\"2016-03-15\"],\n",
    "    [\"018\",\"104\",\"Nancy Liu\",\"29\",\"\",\"50000\",\"2017-06-01\"],\n",
    "    [\"019\",\"103\",\"Steven Chen\",\"36\",\"Male\",\"62000\",\"2015-08-01\"],\n",
    "    [\"020\",\"102\",\"Grace Kim\",\"32\",\"Female\",\"53000\",\"2018-11-01\"]\n",
    "]\n",
    "emp_schema = \"employee_id string, department_id string, name string, age string, gender string, salary string, hire_date string\""
   ]
  },
  {
   "cell_type": "code",
   "execution_count": 8,
   "id": "86044e31-d1e1-46f0-8116-d5430e381170",
   "metadata": {},
   "outputs": [],
   "source": [
    "# Create emp DataFrame\n",
    "\n",
    "emp = spark.createDataFrame(data=emp_data, schema=emp_schema)"
   ]
  },
  {
   "cell_type": "code",
   "execution_count": 11,
   "id": "a4a1022f-1cfe-4351-9489-8f9027f6cf7b",
   "metadata": {},
   "outputs": [
    {
     "name": "stdout",
     "output_type": "stream",
     "text": [
      "+-----------+-------------+-------------+---+------+------+----------+\n",
      "|employee_id|department_id|         name|age|gender|salary| hire_date|\n",
      "+-----------+-------------+-------------+---+------+------+----------+\n",
      "|        001|          101|     John Doe| 30|  Male| 50000|2015-01-01|\n",
      "|        002|          101|   Jane Smith| 25|Female| 45000|2016-02-15|\n",
      "|        003|          102|    Bob Brown| 35|  Male| 55000|2014-05-01|\n",
      "|        004|          102|    Alice Lee| 28|Female| 48000|2017-09-30|\n",
      "|        005|          103|    Jack Chan| 40|  Male| 60000|2013-04-01|\n",
      "|        006|          103|    Jill Wong| 32|Female| 52000|2018-07-01|\n",
      "|        007|          101|James Johnson| 42|  Male| 70000|2012-03-15|\n",
      "|        008|          102|     Kate Kim| 29|Female| 51000|2019-10-01|\n",
      "|        009|          103|      Tom Tan| 33|  Male| 58000|2016-06-01|\n",
      "|        010|          104|     Lisa Lee| 27|Female| 47000|2018-08-01|\n",
      "|        011|          104|   David Park| 38|  Male| 65000|2015-11-01|\n",
      "|        012|          105|   Susan Chen| 31|Female| 54000|2017-02-15|\n",
      "|        013|          106|    Brian Kim| 45|  Male| 75000|2011-07-01|\n",
      "|        014|          107|    Emily Lee| 26|Female| 46000|2019-01-01|\n",
      "|        015|          106|  Michael Lee| 37|  Male| 63000|2014-09-30|\n",
      "|        016|          107|  Kelly Zhang| 30|Female| 49000|2018-04-01|\n",
      "|        017|          105|  George Wang| 34|  Male| 57000|2016-03-15|\n",
      "|        018|          104|    Nancy Liu| 29|      | 50000|2017-06-01|\n",
      "|        019|          103|  Steven Chen| 36|  Male| 62000|2015-08-01|\n",
      "|        020|          102|    Grace Kim| 32|Female| 53000|2018-11-01|\n",
      "+-----------+-------------+-------------+---+------+------+----------+\n",
      "\n"
     ]
    }
   ],
   "source": [
    "# Show emp dataframe (ACTION)\n",
    "\n",
    "emp.show()"
   ]
  },
  {
   "cell_type": "code",
   "execution_count": 13,
   "id": "b208bb3a-41cb-4e88-b986-1d0143071dc8",
   "metadata": {},
   "outputs": [
    {
     "name": "stdout",
     "output_type": "stream",
     "text": [
      "root\n",
      " |-- employee_id: string (nullable = true)\n",
      " |-- department_id: string (nullable = true)\n",
      " |-- name: string (nullable = true)\n",
      " |-- age: string (nullable = true)\n",
      " |-- gender: string (nullable = true)\n",
      " |-- salary: string (nullable = true)\n",
      " |-- hire_date: string (nullable = true)\n",
      "\n"
     ]
    }
   ],
   "source": [
    "# Print Schema\n",
    "\n",
    "emp.printSchema()"
   ]
  },
  {
   "cell_type": "code",
   "execution_count": 18,
   "id": "2df4e9fb-3c84-49bd-bd60-b61aca68f5d1",
   "metadata": {},
   "outputs": [],
   "source": [
    "# Gender Fixed\n",
    "\n",
    "from pyspark.sql.functions import when,col,expr\n",
    "\n",
    "emp_gender_fixed=emp.withColumn(\"new_gender\", when(col(\"gender\")=='Male', 'M').when(col(\"gender\")=='Female', 'F').otherwise(None))\n",
    "\n",
    "#or\n",
    "\n",
    "emp_gender_fixed1=emp.withColumn(\"new_gender\", expr(\"case when gender= 'Male' then 'M' when gender= 'Female' then 'F' else null end\"))"
   ]
  },
  {
   "cell_type": "code",
   "execution_count": 19,
   "id": "6abbe1fb-bad7-450a-bb0f-4bb8cc041624",
   "metadata": {},
   "outputs": [
    {
     "name": "stdout",
     "output_type": "stream",
     "text": [
      "+-----------+-------------+-------------+---+------+------+----------+----------+\n",
      "|employee_id|department_id|         name|age|gender|salary| hire_date|new_gender|\n",
      "+-----------+-------------+-------------+---+------+------+----------+----------+\n",
      "|        001|          101|     John Doe| 30|  Male| 50000|2015-01-01|         M|\n",
      "|        002|          101|   Jane Smith| 25|Female| 45000|2016-02-15|         F|\n",
      "|        003|          102|    Bob Brown| 35|  Male| 55000|2014-05-01|         M|\n",
      "|        004|          102|    Alice Lee| 28|Female| 48000|2017-09-30|         F|\n",
      "|        005|          103|    Jack Chan| 40|  Male| 60000|2013-04-01|         M|\n",
      "|        006|          103|    Jill Wong| 32|Female| 52000|2018-07-01|         F|\n",
      "|        007|          101|James Johnson| 42|  Male| 70000|2012-03-15|         M|\n",
      "|        008|          102|     Kate Kim| 29|Female| 51000|2019-10-01|         F|\n",
      "|        009|          103|      Tom Tan| 33|  Male| 58000|2016-06-01|         M|\n",
      "|        010|          104|     Lisa Lee| 27|Female| 47000|2018-08-01|         F|\n",
      "|        011|          104|   David Park| 38|  Male| 65000|2015-11-01|         M|\n",
      "|        012|          105|   Susan Chen| 31|Female| 54000|2017-02-15|         F|\n",
      "|        013|          106|    Brian Kim| 45|  Male| 75000|2011-07-01|         M|\n",
      "|        014|          107|    Emily Lee| 26|Female| 46000|2019-01-01|         F|\n",
      "|        015|          106|  Michael Lee| 37|  Male| 63000|2014-09-30|         M|\n",
      "|        016|          107|  Kelly Zhang| 30|Female| 49000|2018-04-01|         F|\n",
      "|        017|          105|  George Wang| 34|  Male| 57000|2016-03-15|         M|\n",
      "|        018|          104|    Nancy Liu| 29|      | 50000|2017-06-01|      NULL|\n",
      "|        019|          103|  Steven Chen| 36|  Male| 62000|2015-08-01|         M|\n",
      "|        020|          102|    Grace Kim| 32|Female| 53000|2018-11-01|         F|\n",
      "+-----------+-------------+-------------+---+------+------+----------+----------+\n",
      "\n"
     ]
    }
   ],
   "source": [
    "emp_gender_fixed1.show()"
   ]
  },
  {
   "cell_type": "code",
   "execution_count": 22,
   "id": "1e46b0eb-85c4-4c89-8de8-cf0a498f5d75",
   "metadata": {},
   "outputs": [],
   "source": [
    "#Replace in String\n",
    "\n",
    "from pyspark.sql.functions import regexp_replace\n",
    "\n",
    "emp_name_fixed= emp_gender_fixed1.withColumn(\"new_name\", regexp_replace(col(\"name\"),\"J\",\"Z\"))"
   ]
  },
  {
   "cell_type": "code",
   "execution_count": 23,
   "id": "f8f0c3a5-da75-4e9f-9dcb-2dc2cb57fd22",
   "metadata": {},
   "outputs": [
    {
     "name": "stdout",
     "output_type": "stream",
     "text": [
      "+-----------+-------------+-------------+---+------+------+----------+----------+-------------+\n",
      "|employee_id|department_id|         name|age|gender|salary| hire_date|new_gender|     new_name|\n",
      "+-----------+-------------+-------------+---+------+------+----------+----------+-------------+\n",
      "|        001|          101|     John Doe| 30|  Male| 50000|2015-01-01|         M|     Zohn Doe|\n",
      "|        002|          101|   Jane Smith| 25|Female| 45000|2016-02-15|         F|   Zane Smith|\n",
      "|        003|          102|    Bob Brown| 35|  Male| 55000|2014-05-01|         M|    Bob Brown|\n",
      "|        004|          102|    Alice Lee| 28|Female| 48000|2017-09-30|         F|    Alice Lee|\n",
      "|        005|          103|    Jack Chan| 40|  Male| 60000|2013-04-01|         M|    Zack Chan|\n",
      "|        006|          103|    Jill Wong| 32|Female| 52000|2018-07-01|         F|    Zill Wong|\n",
      "|        007|          101|James Johnson| 42|  Male| 70000|2012-03-15|         M|Zames Zohnson|\n",
      "|        008|          102|     Kate Kim| 29|Female| 51000|2019-10-01|         F|     Kate Kim|\n",
      "|        009|          103|      Tom Tan| 33|  Male| 58000|2016-06-01|         M|      Tom Tan|\n",
      "|        010|          104|     Lisa Lee| 27|Female| 47000|2018-08-01|         F|     Lisa Lee|\n",
      "|        011|          104|   David Park| 38|  Male| 65000|2015-11-01|         M|   David Park|\n",
      "|        012|          105|   Susan Chen| 31|Female| 54000|2017-02-15|         F|   Susan Chen|\n",
      "|        013|          106|    Brian Kim| 45|  Male| 75000|2011-07-01|         M|    Brian Kim|\n",
      "|        014|          107|    Emily Lee| 26|Female| 46000|2019-01-01|         F|    Emily Lee|\n",
      "|        015|          106|  Michael Lee| 37|  Male| 63000|2014-09-30|         M|  Michael Lee|\n",
      "|        016|          107|  Kelly Zhang| 30|Female| 49000|2018-04-01|         F|  Kelly Zhang|\n",
      "|        017|          105|  George Wang| 34|  Male| 57000|2016-03-15|         M|  George Wang|\n",
      "|        018|          104|    Nancy Liu| 29|      | 50000|2017-06-01|      NULL|    Nancy Liu|\n",
      "|        019|          103|  Steven Chen| 36|  Male| 62000|2015-08-01|         M|  Steven Chen|\n",
      "|        020|          102|    Grace Kim| 32|Female| 53000|2018-11-01|         F|    Grace Kim|\n",
      "+-----------+-------------+-------------+---+------+------+----------+----------+-------------+\n",
      "\n"
     ]
    }
   ],
   "source": [
    "emp_name_fixed.show()"
   ]
  },
  {
   "cell_type": "code",
   "execution_count": 35,
   "id": "a1561e79-c30f-4377-84e7-0f8a7de553f8",
   "metadata": {},
   "outputs": [],
   "source": [
    "#Convert Date\n",
    "from pyspark.sql.functions import to_date\n",
    "\n",
    "emp_date_fixed=emp_name_fixed.withColumn(\"hire_date\", to_date(col(\"hire_date\"), 'y-MM-dd'))"
   ]
  },
  {
   "cell_type": "code",
   "execution_count": 34,
   "id": "8c47b22b-b7bc-4955-b22f-b5856535976f",
   "metadata": {},
   "outputs": [
    {
     "name": "stdout",
     "output_type": "stream",
     "text": [
      "+-----------+-------------+-------------+---+------+------+----------+----------+-------------+\n",
      "|employee_id|department_id|         name|age|gender|salary| hire_date|new_gender|     new_name|\n",
      "+-----------+-------------+-------------+---+------+------+----------+----------+-------------+\n",
      "|        001|          101|     John Doe| 30|  Male| 50000|2015-01-01|         M|     Zohn Doe|\n",
      "|        002|          101|   Jane Smith| 25|Female| 45000|2016-02-15|         F|   Zane Smith|\n",
      "|        003|          102|    Bob Brown| 35|  Male| 55000|2014-05-01|         M|    Bob Brown|\n",
      "|        004|          102|    Alice Lee| 28|Female| 48000|2017-09-30|         F|    Alice Lee|\n",
      "|        005|          103|    Jack Chan| 40|  Male| 60000|2013-04-01|         M|    Zack Chan|\n",
      "|        006|          103|    Jill Wong| 32|Female| 52000|2018-07-01|         F|    Zill Wong|\n",
      "|        007|          101|James Johnson| 42|  Male| 70000|2012-03-15|         M|Zames Zohnson|\n",
      "|        008|          102|     Kate Kim| 29|Female| 51000|2019-10-01|         F|     Kate Kim|\n",
      "|        009|          103|      Tom Tan| 33|  Male| 58000|2016-06-01|         M|      Tom Tan|\n",
      "|        010|          104|     Lisa Lee| 27|Female| 47000|2018-08-01|         F|     Lisa Lee|\n",
      "|        011|          104|   David Park| 38|  Male| 65000|2015-11-01|         M|   David Park|\n",
      "|        012|          105|   Susan Chen| 31|Female| 54000|2017-02-15|         F|   Susan Chen|\n",
      "|        013|          106|    Brian Kim| 45|  Male| 75000|2011-07-01|         M|    Brian Kim|\n",
      "|        014|          107|    Emily Lee| 26|Female| 46000|2019-01-01|         F|    Emily Lee|\n",
      "|        015|          106|  Michael Lee| 37|  Male| 63000|2014-09-30|         M|  Michael Lee|\n",
      "|        016|          107|  Kelly Zhang| 30|Female| 49000|2018-04-01|         F|  Kelly Zhang|\n",
      "|        017|          105|  George Wang| 34|  Male| 57000|2016-03-15|         M|  George Wang|\n",
      "|        018|          104|    Nancy Liu| 29|      | 50000|2017-06-01|      NULL|    Nancy Liu|\n",
      "|        019|          103|  Steven Chen| 36|  Male| 62000|2015-08-01|         M|  Steven Chen|\n",
      "|        020|          102|    Grace Kim| 32|Female| 53000|2018-11-01|         F|    Grace Kim|\n",
      "+-----------+-------------+-------------+---+------+------+----------+----------+-------------+\n",
      "\n"
     ]
    }
   ],
   "source": [
    "emp_date_fixed.show()"
   ]
  },
  {
   "cell_type": "code",
   "execution_count": 36,
   "id": "03a75ba7-e7b4-4cc7-833f-fdbf9d4ad09e",
   "metadata": {},
   "outputs": [
    {
     "name": "stdout",
     "output_type": "stream",
     "text": [
      "root\n",
      " |-- employee_id: string (nullable = true)\n",
      " |-- department_id: string (nullable = true)\n",
      " |-- name: string (nullable = true)\n",
      " |-- age: string (nullable = true)\n",
      " |-- gender: string (nullable = true)\n",
      " |-- salary: string (nullable = true)\n",
      " |-- hire_date: date (nullable = true)\n",
      " |-- new_gender: string (nullable = true)\n",
      " |-- new_name: string (nullable = true)\n",
      "\n"
     ]
    }
   ],
   "source": [
    "emp_date_fixed.printSchema()"
   ]
  },
  {
   "cell_type": "code",
   "execution_count": 39,
   "id": "ba44dc2b-b4ea-4787-9465-1dd0a4a0765e",
   "metadata": {},
   "outputs": [],
   "source": [
    "# Add Date Columns\n",
    "# Add currrent date, current timestamp, extract year from hire_date\n",
    "\n",
    "from pyspark.sql.functions import current_date, current_timestamp\n",
    "\n",
    "emp_dated= emp_date_fixed.withColumn(\"date_now\", current_date()).withColumn(\"timestamp_now\", current_timestamp())"
   ]
  },
  {
   "cell_type": "code",
   "execution_count": 41,
   "id": "3385d697-dbb4-4be8-bb9e-150b9f529113",
   "metadata": {},
   "outputs": [
    {
     "name": "stdout",
     "output_type": "stream",
     "text": [
      "+-----------+-------------+-------------+---+------+------+----------+----------+-------------+----------+--------------------------+\n",
      "|employee_id|department_id|name         |age|gender|salary|hire_date |new_gender|new_name     |date_now  |timestamp_now             |\n",
      "+-----------+-------------+-------------+---+------+------+----------+----------+-------------+----------+--------------------------+\n",
      "|001        |101          |John Doe     |30 |Male  |50000 |2015-01-01|M         |Zohn Doe     |2025-02-15|2025-02-15 04:59:11.627201|\n",
      "|002        |101          |Jane Smith   |25 |Female|45000 |2016-02-15|F         |Zane Smith   |2025-02-15|2025-02-15 04:59:11.627201|\n",
      "|003        |102          |Bob Brown    |35 |Male  |55000 |2014-05-01|M         |Bob Brown    |2025-02-15|2025-02-15 04:59:11.627201|\n",
      "|004        |102          |Alice Lee    |28 |Female|48000 |2017-09-30|F         |Alice Lee    |2025-02-15|2025-02-15 04:59:11.627201|\n",
      "|005        |103          |Jack Chan    |40 |Male  |60000 |2013-04-01|M         |Zack Chan    |2025-02-15|2025-02-15 04:59:11.627201|\n",
      "|006        |103          |Jill Wong    |32 |Female|52000 |2018-07-01|F         |Zill Wong    |2025-02-15|2025-02-15 04:59:11.627201|\n",
      "|007        |101          |James Johnson|42 |Male  |70000 |2012-03-15|M         |Zames Zohnson|2025-02-15|2025-02-15 04:59:11.627201|\n",
      "|008        |102          |Kate Kim     |29 |Female|51000 |2019-10-01|F         |Kate Kim     |2025-02-15|2025-02-15 04:59:11.627201|\n",
      "|009        |103          |Tom Tan      |33 |Male  |58000 |2016-06-01|M         |Tom Tan      |2025-02-15|2025-02-15 04:59:11.627201|\n",
      "|010        |104          |Lisa Lee     |27 |Female|47000 |2018-08-01|F         |Lisa Lee     |2025-02-15|2025-02-15 04:59:11.627201|\n",
      "|011        |104          |David Park   |38 |Male  |65000 |2015-11-01|M         |David Park   |2025-02-15|2025-02-15 04:59:11.627201|\n",
      "|012        |105          |Susan Chen   |31 |Female|54000 |2017-02-15|F         |Susan Chen   |2025-02-15|2025-02-15 04:59:11.627201|\n",
      "|013        |106          |Brian Kim    |45 |Male  |75000 |2011-07-01|M         |Brian Kim    |2025-02-15|2025-02-15 04:59:11.627201|\n",
      "|014        |107          |Emily Lee    |26 |Female|46000 |2019-01-01|F         |Emily Lee    |2025-02-15|2025-02-15 04:59:11.627201|\n",
      "|015        |106          |Michael Lee  |37 |Male  |63000 |2014-09-30|M         |Michael Lee  |2025-02-15|2025-02-15 04:59:11.627201|\n",
      "|016        |107          |Kelly Zhang  |30 |Female|49000 |2018-04-01|F         |Kelly Zhang  |2025-02-15|2025-02-15 04:59:11.627201|\n",
      "|017        |105          |George Wang  |34 |Male  |57000 |2016-03-15|M         |George Wang  |2025-02-15|2025-02-15 04:59:11.627201|\n",
      "|018        |104          |Nancy Liu    |29 |      |50000 |2017-06-01|NULL      |Nancy Liu    |2025-02-15|2025-02-15 04:59:11.627201|\n",
      "|019        |103          |Steven Chen  |36 |Male  |62000 |2015-08-01|M         |Steven Chen  |2025-02-15|2025-02-15 04:59:11.627201|\n",
      "|020        |102          |Grace Kim    |32 |Female|53000 |2018-11-01|F         |Grace Kim    |2025-02-15|2025-02-15 04:59:11.627201|\n",
      "+-----------+-------------+-------------+---+------+------+----------+----------+-------------+----------+--------------------------+\n",
      "\n"
     ]
    }
   ],
   "source": [
    "emp_dated.show(truncate=False)"
   ]
  },
  {
   "cell_type": "code",
   "execution_count": 43,
   "id": "f3e01d13-31b7-4560-ad68-e6702a18e4cc",
   "metadata": {},
   "outputs": [],
   "source": [
    "# Drop null values\n",
    "\n",
    "emp_drop_null_values=emp_dated.na.drop()"
   ]
  },
  {
   "cell_type": "code",
   "execution_count": 44,
   "id": "f104d792-fcd7-4bc4-8d55-cb7b0d67ceed",
   "metadata": {},
   "outputs": [
    {
     "name": "stdout",
     "output_type": "stream",
     "text": [
      "+-----------+-------------+-------------+---+------+------+----------+----------+-------------+----------+--------------------+\n",
      "|employee_id|department_id|         name|age|gender|salary| hire_date|new_gender|     new_name|  date_now|       timestamp_now|\n",
      "+-----------+-------------+-------------+---+------+------+----------+----------+-------------+----------+--------------------+\n",
      "|        001|          101|     John Doe| 30|  Male| 50000|2015-01-01|         M|     Zohn Doe|2025-02-15|2025-02-15 05:00:...|\n",
      "|        002|          101|   Jane Smith| 25|Female| 45000|2016-02-15|         F|   Zane Smith|2025-02-15|2025-02-15 05:00:...|\n",
      "|        003|          102|    Bob Brown| 35|  Male| 55000|2014-05-01|         M|    Bob Brown|2025-02-15|2025-02-15 05:00:...|\n",
      "|        004|          102|    Alice Lee| 28|Female| 48000|2017-09-30|         F|    Alice Lee|2025-02-15|2025-02-15 05:00:...|\n",
      "|        005|          103|    Jack Chan| 40|  Male| 60000|2013-04-01|         M|    Zack Chan|2025-02-15|2025-02-15 05:00:...|\n",
      "|        006|          103|    Jill Wong| 32|Female| 52000|2018-07-01|         F|    Zill Wong|2025-02-15|2025-02-15 05:00:...|\n",
      "|        007|          101|James Johnson| 42|  Male| 70000|2012-03-15|         M|Zames Zohnson|2025-02-15|2025-02-15 05:00:...|\n",
      "|        008|          102|     Kate Kim| 29|Female| 51000|2019-10-01|         F|     Kate Kim|2025-02-15|2025-02-15 05:00:...|\n",
      "|        009|          103|      Tom Tan| 33|  Male| 58000|2016-06-01|         M|      Tom Tan|2025-02-15|2025-02-15 05:00:...|\n",
      "|        010|          104|     Lisa Lee| 27|Female| 47000|2018-08-01|         F|     Lisa Lee|2025-02-15|2025-02-15 05:00:...|\n",
      "|        011|          104|   David Park| 38|  Male| 65000|2015-11-01|         M|   David Park|2025-02-15|2025-02-15 05:00:...|\n",
      "|        012|          105|   Susan Chen| 31|Female| 54000|2017-02-15|         F|   Susan Chen|2025-02-15|2025-02-15 05:00:...|\n",
      "|        013|          106|    Brian Kim| 45|  Male| 75000|2011-07-01|         M|    Brian Kim|2025-02-15|2025-02-15 05:00:...|\n",
      "|        014|          107|    Emily Lee| 26|Female| 46000|2019-01-01|         F|    Emily Lee|2025-02-15|2025-02-15 05:00:...|\n",
      "|        015|          106|  Michael Lee| 37|  Male| 63000|2014-09-30|         M|  Michael Lee|2025-02-15|2025-02-15 05:00:...|\n",
      "|        016|          107|  Kelly Zhang| 30|Female| 49000|2018-04-01|         F|  Kelly Zhang|2025-02-15|2025-02-15 05:00:...|\n",
      "|        017|          105|  George Wang| 34|  Male| 57000|2016-03-15|         M|  George Wang|2025-02-15|2025-02-15 05:00:...|\n",
      "|        019|          103|  Steven Chen| 36|  Male| 62000|2015-08-01|         M|  Steven Chen|2025-02-15|2025-02-15 05:00:...|\n",
      "|        020|          102|    Grace Kim| 32|Female| 53000|2018-11-01|         F|    Grace Kim|2025-02-15|2025-02-15 05:00:...|\n",
      "+-----------+-------------+-------------+---+------+------+----------+----------+-------------+----------+--------------------+\n",
      "\n"
     ]
    }
   ],
   "source": [
    "emp_drop_null_values.show()"
   ]
  },
  {
   "cell_type": "code",
   "execution_count": 45,
   "id": "fad87556-c5ee-4024-ab19-2d9d49c1547f",
   "metadata": {},
   "outputs": [],
   "source": [
    "# fix null values\n",
    "# select *, nvl('new_gender', 'o') as new_gender from emp_dated\n",
    "from pyspark.sql.functions import coalesce, lit\n",
    "\n",
    "emp_null_df=emp_dated.withColumn(\"new_gender\", coalesce(col(\"new_gender\"), lit(\"O\")))"
   ]
  },
  {
   "cell_type": "code",
   "execution_count": 47,
   "id": "6e6f36c3-73b9-47f9-8f06-2dbbde5db6ff",
   "metadata": {},
   "outputs": [
    {
     "name": "stdout",
     "output_type": "stream",
     "text": [
      "+-----------+-------------+-------------+---+------+------+----------+----------+-------------+----------+--------------------------+\n",
      "|employee_id|department_id|name         |age|gender|salary|hire_date |new_gender|new_name     |date_now  |timestamp_now             |\n",
      "+-----------+-------------+-------------+---+------+------+----------+----------+-------------+----------+--------------------------+\n",
      "|001        |101          |John Doe     |30 |Male  |50000 |2015-01-01|M         |Zohn Doe     |2025-02-15|2025-02-15 05:04:09.951425|\n",
      "|002        |101          |Jane Smith   |25 |Female|45000 |2016-02-15|F         |Zane Smith   |2025-02-15|2025-02-15 05:04:09.951425|\n",
      "|003        |102          |Bob Brown    |35 |Male  |55000 |2014-05-01|M         |Bob Brown    |2025-02-15|2025-02-15 05:04:09.951425|\n",
      "|004        |102          |Alice Lee    |28 |Female|48000 |2017-09-30|F         |Alice Lee    |2025-02-15|2025-02-15 05:04:09.951425|\n",
      "|005        |103          |Jack Chan    |40 |Male  |60000 |2013-04-01|M         |Zack Chan    |2025-02-15|2025-02-15 05:04:09.951425|\n",
      "|006        |103          |Jill Wong    |32 |Female|52000 |2018-07-01|F         |Zill Wong    |2025-02-15|2025-02-15 05:04:09.951425|\n",
      "|007        |101          |James Johnson|42 |Male  |70000 |2012-03-15|M         |Zames Zohnson|2025-02-15|2025-02-15 05:04:09.951425|\n",
      "|008        |102          |Kate Kim     |29 |Female|51000 |2019-10-01|F         |Kate Kim     |2025-02-15|2025-02-15 05:04:09.951425|\n",
      "|009        |103          |Tom Tan      |33 |Male  |58000 |2016-06-01|M         |Tom Tan      |2025-02-15|2025-02-15 05:04:09.951425|\n",
      "|010        |104          |Lisa Lee     |27 |Female|47000 |2018-08-01|F         |Lisa Lee     |2025-02-15|2025-02-15 05:04:09.951425|\n",
      "|011        |104          |David Park   |38 |Male  |65000 |2015-11-01|M         |David Park   |2025-02-15|2025-02-15 05:04:09.951425|\n",
      "|012        |105          |Susan Chen   |31 |Female|54000 |2017-02-15|F         |Susan Chen   |2025-02-15|2025-02-15 05:04:09.951425|\n",
      "|013        |106          |Brian Kim    |45 |Male  |75000 |2011-07-01|M         |Brian Kim    |2025-02-15|2025-02-15 05:04:09.951425|\n",
      "|014        |107          |Emily Lee    |26 |Female|46000 |2019-01-01|F         |Emily Lee    |2025-02-15|2025-02-15 05:04:09.951425|\n",
      "|015        |106          |Michael Lee  |37 |Male  |63000 |2014-09-30|M         |Michael Lee  |2025-02-15|2025-02-15 05:04:09.951425|\n",
      "|016        |107          |Kelly Zhang  |30 |Female|49000 |2018-04-01|F         |Kelly Zhang  |2025-02-15|2025-02-15 05:04:09.951425|\n",
      "|017        |105          |George Wang  |34 |Male  |57000 |2016-03-15|M         |George Wang  |2025-02-15|2025-02-15 05:04:09.951425|\n",
      "|018        |104          |Nancy Liu    |29 |      |50000 |2017-06-01|O         |Nancy Liu    |2025-02-15|2025-02-15 05:04:09.951425|\n",
      "|019        |103          |Steven Chen  |36 |Male  |62000 |2015-08-01|M         |Steven Chen  |2025-02-15|2025-02-15 05:04:09.951425|\n",
      "|020        |102          |Grace Kim    |32 |Female|53000 |2018-11-01|F         |Grace Kim    |2025-02-15|2025-02-15 05:04:09.951425|\n",
      "+-----------+-------------+-------------+---+------+------+----------+----------+-------------+----------+--------------------------+\n",
      "\n"
     ]
    }
   ],
   "source": [
    "emp_null_df.show(truncate=False)"
   ]
  },
  {
   "cell_type": "code",
   "execution_count": 48,
   "id": "a4a5b474-d5e6-4b20-a249-6e4a5443c1db",
   "metadata": {},
   "outputs": [],
   "source": [
    "# Drop old columns and add new columns\n",
    "\n",
    "emp_final=emp_null_df.drop(\"name\", \"gender\").withColumnRenamed(\"new_name\", \"name\").withColumnRenamed(\"new_gender\", \"gender\")"
   ]
  },
  {
   "cell_type": "code",
   "execution_count": 51,
   "id": "8b654815-dcb1-4c5a-b603-66a4405b3bbc",
   "metadata": {},
   "outputs": [
    {
     "name": "stdout",
     "output_type": "stream",
     "text": [
      "+-----------+-------------+---+------+----------+------+-------------+----------+--------------------------+\n",
      "|employee_id|department_id|age|salary|hire_date |gender|name         |date_now  |timestamp_now             |\n",
      "+-----------+-------------+---+------+----------+------+-------------+----------+--------------------------+\n",
      "|001        |101          |30 |50000 |2015-01-01|M     |Zohn Doe     |2025-02-15|2025-02-15 05:06:46.861281|\n",
      "|002        |101          |25 |45000 |2016-02-15|F     |Zane Smith   |2025-02-15|2025-02-15 05:06:46.861281|\n",
      "|003        |102          |35 |55000 |2014-05-01|M     |Bob Brown    |2025-02-15|2025-02-15 05:06:46.861281|\n",
      "|004        |102          |28 |48000 |2017-09-30|F     |Alice Lee    |2025-02-15|2025-02-15 05:06:46.861281|\n",
      "|005        |103          |40 |60000 |2013-04-01|M     |Zack Chan    |2025-02-15|2025-02-15 05:06:46.861281|\n",
      "|006        |103          |32 |52000 |2018-07-01|F     |Zill Wong    |2025-02-15|2025-02-15 05:06:46.861281|\n",
      "|007        |101          |42 |70000 |2012-03-15|M     |Zames Zohnson|2025-02-15|2025-02-15 05:06:46.861281|\n",
      "|008        |102          |29 |51000 |2019-10-01|F     |Kate Kim     |2025-02-15|2025-02-15 05:06:46.861281|\n",
      "|009        |103          |33 |58000 |2016-06-01|M     |Tom Tan      |2025-02-15|2025-02-15 05:06:46.861281|\n",
      "|010        |104          |27 |47000 |2018-08-01|F     |Lisa Lee     |2025-02-15|2025-02-15 05:06:46.861281|\n",
      "|011        |104          |38 |65000 |2015-11-01|M     |David Park   |2025-02-15|2025-02-15 05:06:46.861281|\n",
      "|012        |105          |31 |54000 |2017-02-15|F     |Susan Chen   |2025-02-15|2025-02-15 05:06:46.861281|\n",
      "|013        |106          |45 |75000 |2011-07-01|M     |Brian Kim    |2025-02-15|2025-02-15 05:06:46.861281|\n",
      "|014        |107          |26 |46000 |2019-01-01|F     |Emily Lee    |2025-02-15|2025-02-15 05:06:46.861281|\n",
      "|015        |106          |37 |63000 |2014-09-30|M     |Michael Lee  |2025-02-15|2025-02-15 05:06:46.861281|\n",
      "|016        |107          |30 |49000 |2018-04-01|F     |Kelly Zhang  |2025-02-15|2025-02-15 05:06:46.861281|\n",
      "|017        |105          |34 |57000 |2016-03-15|M     |George Wang  |2025-02-15|2025-02-15 05:06:46.861281|\n",
      "|018        |104          |29 |50000 |2017-06-01|O     |Nancy Liu    |2025-02-15|2025-02-15 05:06:46.861281|\n",
      "|019        |103          |36 |62000 |2015-08-01|M     |Steven Chen  |2025-02-15|2025-02-15 05:06:46.861281|\n",
      "|020        |102          |32 |53000 |2018-11-01|F     |Grace Kim    |2025-02-15|2025-02-15 05:06:46.861281|\n",
      "+-----------+-------------+---+------+----------+------+-------------+----------+--------------------------+\n",
      "\n"
     ]
    }
   ],
   "source": [
    "emp_final.show(truncate=False)"
   ]
  },
  {
   "cell_type": "code",
   "execution_count": 52,
   "id": "27686668-8fef-4db9-a36c-ca68c863d965",
   "metadata": {},
   "outputs": [],
   "source": [
    "# Write DF into CSV\n",
    "\n",
    "emp_final.write.format(\"csv\").save(\"data/emp_final.csv\")"
   ]
  },
  {
   "cell_type": "code",
   "execution_count": 53,
   "id": "53f55717-72cc-4e67-8e7a-91fe4c9bbcbb",
   "metadata": {},
   "outputs": [],
   "source": [
    "# convert date into string and extract date information\n",
    "\n",
    "from pyspark.sql.functions import date_format\n",
    "\n",
    "emp_fixed=emp_final.withColumn(\"date_string\", date_format(col(\"hire_date\"), \"dd/MM/yyyy\"))"
   ]
  },
  {
   "cell_type": "code",
   "execution_count": 55,
   "id": "a055db32-08a6-45bb-b472-f4adfb026a1a",
   "metadata": {},
   "outputs": [
    {
     "name": "stdout",
     "output_type": "stream",
     "text": [
      "+-----------+-------------+---+------+----------+------+-------------+----------+--------------------------+-----------+\n",
      "|employee_id|department_id|age|salary|hire_date |gender|name         |date_now  |timestamp_now             |date_string|\n",
      "+-----------+-------------+---+------+----------+------+-------------+----------+--------------------------+-----------+\n",
      "|001        |101          |30 |50000 |2015-01-01|M     |Zohn Doe     |2025-02-15|2025-02-15 05:10:39.297776|01/01/2015 |\n",
      "|002        |101          |25 |45000 |2016-02-15|F     |Zane Smith   |2025-02-15|2025-02-15 05:10:39.297776|15/02/2016 |\n",
      "|003        |102          |35 |55000 |2014-05-01|M     |Bob Brown    |2025-02-15|2025-02-15 05:10:39.297776|01/05/2014 |\n",
      "|004        |102          |28 |48000 |2017-09-30|F     |Alice Lee    |2025-02-15|2025-02-15 05:10:39.297776|30/09/2017 |\n",
      "|005        |103          |40 |60000 |2013-04-01|M     |Zack Chan    |2025-02-15|2025-02-15 05:10:39.297776|01/04/2013 |\n",
      "|006        |103          |32 |52000 |2018-07-01|F     |Zill Wong    |2025-02-15|2025-02-15 05:10:39.297776|01/07/2018 |\n",
      "|007        |101          |42 |70000 |2012-03-15|M     |Zames Zohnson|2025-02-15|2025-02-15 05:10:39.297776|15/03/2012 |\n",
      "|008        |102          |29 |51000 |2019-10-01|F     |Kate Kim     |2025-02-15|2025-02-15 05:10:39.297776|01/10/2019 |\n",
      "|009        |103          |33 |58000 |2016-06-01|M     |Tom Tan      |2025-02-15|2025-02-15 05:10:39.297776|01/06/2016 |\n",
      "|010        |104          |27 |47000 |2018-08-01|F     |Lisa Lee     |2025-02-15|2025-02-15 05:10:39.297776|01/08/2018 |\n",
      "|011        |104          |38 |65000 |2015-11-01|M     |David Park   |2025-02-15|2025-02-15 05:10:39.297776|01/11/2015 |\n",
      "|012        |105          |31 |54000 |2017-02-15|F     |Susan Chen   |2025-02-15|2025-02-15 05:10:39.297776|15/02/2017 |\n",
      "|013        |106          |45 |75000 |2011-07-01|M     |Brian Kim    |2025-02-15|2025-02-15 05:10:39.297776|01/07/2011 |\n",
      "|014        |107          |26 |46000 |2019-01-01|F     |Emily Lee    |2025-02-15|2025-02-15 05:10:39.297776|01/01/2019 |\n",
      "|015        |106          |37 |63000 |2014-09-30|M     |Michael Lee  |2025-02-15|2025-02-15 05:10:39.297776|30/09/2014 |\n",
      "|016        |107          |30 |49000 |2018-04-01|F     |Kelly Zhang  |2025-02-15|2025-02-15 05:10:39.297776|01/04/2018 |\n",
      "|017        |105          |34 |57000 |2016-03-15|M     |George Wang  |2025-02-15|2025-02-15 05:10:39.297776|15/03/2016 |\n",
      "|018        |104          |29 |50000 |2017-06-01|O     |Nancy Liu    |2025-02-15|2025-02-15 05:10:39.297776|01/06/2017 |\n",
      "|019        |103          |36 |62000 |2015-08-01|M     |Steven Chen  |2025-02-15|2025-02-15 05:10:39.297776|01/08/2015 |\n",
      "|020        |102          |32 |53000 |2018-11-01|F     |Grace Kim    |2025-02-15|2025-02-15 05:10:39.297776|01/11/2018 |\n",
      "+-----------+-------------+---+------+----------+------+-------------+----------+--------------------------+-----------+\n",
      "\n"
     ]
    }
   ],
   "source": [
    "emp_fixed.show(truncate=False)"
   ]
  }
 ],
 "metadata": {
  "kernelspec": {
   "display_name": "Python 3 (ipykernel)",
   "language": "python",
   "name": "python3"
  },
  "language_info": {
   "codemirror_mode": {
    "name": "ipython",
    "version": 3
   },
   "file_extension": ".py",
   "mimetype": "text/x-python",
   "name": "python",
   "nbconvert_exporter": "python",
   "pygments_lexer": "ipython3",
   "version": "3.11.0"
  },
  "toc-autonumbering": true,
  "toc-showmarkdowntxt": true,
  "toc-showtags": true
 },
 "nbformat": 4,
 "nbformat_minor": 5
}
