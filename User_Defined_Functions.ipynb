{
 "cells": [
  {
   "cell_type": "code",
   "execution_count": 3,
   "id": "2251cadc-e1b0-4d86-b54f-17ca08ccd006",
   "metadata": {},
   "outputs": [
    {
     "name": "stdout",
     "output_type": "stream",
     "text": [
      "http://gypsum-gpu160.unity.rc.umass.edu:4042\n"
     ]
    },
    {
     "data": {
      "text/html": [
       "\n",
       "            <div>\n",
       "                <p><b>SparkSession - in-memory</b></p>\n",
       "                \n",
       "        <div>\n",
       "            <p><b>SparkContext</b></p>\n",
       "\n",
       "            <p><a href=\"http://gypsum-gpu160.unity.rc.umass.edu:4042\">Spark UI</a></p>\n",
       "\n",
       "            <dl>\n",
       "              <dt>Version</dt>\n",
       "                <dd><code>v3.5.4</code></dd>\n",
       "              <dt>Master</dt>\n",
       "                <dd><code>local[*]</code></dd>\n",
       "              <dt>AppName</dt>\n",
       "                <dd><code>User_Defined_Functions</code></dd>\n",
       "            </dl>\n",
       "        </div>\n",
       "        \n",
       "            </div>\n",
       "        "
      ],
      "text/plain": [
       "<pyspark.sql.session.SparkSession at 0x7409e351dfd0>"
      ]
     },
     "execution_count": 3,
     "metadata": {},
     "output_type": "execute_result"
    }
   ],
   "source": [
    "from pyspark.sql import SparkSession\n",
    "\n",
    "spark = SparkSession.builder.appName(\"User_Defined_Functions\").master(\"local[*]\").config(\"spark.ui.port\", \"4042\").config(\"spark.executor.instances\", 4).config(\"spark.executor.cores\", 4).config(\"spark.executor.memory\", \"512M\").getOrCreate()\n",
    "\n",
    "print(spark.sparkContext.uiWebUrl)\n",
    "spark"
   ]
  },
  {
   "cell_type": "code",
   "execution_count": 7,
   "id": "b801a265-4c2f-4468-b3e4-f30208fd7571",
   "metadata": {},
   "outputs": [
    {
     "data": {
      "text/plain": [
       "1"
      ]
     },
     "execution_count": 7,
     "metadata": {},
     "output_type": "execute_result"
    }
   ],
   "source": [
    "# Read employee data\n",
    "\n",
    "emp_schema = \"employee_id string, department_id string, name string, age string, gender string, salary string, hire_date string\"\n",
    "emp = spark.read.format(\"csv\").option(\"header\", True).schema(emp_schema).load(\"data/emp.csv\")\n",
    "emp.rdd.getNumPartitions()\n"
   ]
  },
  {
   "cell_type": "code",
   "execution_count": 9,
   "id": "c150dcdf-951d-4a93-89b2-7e0ac455cbdd",
   "metadata": {},
   "outputs": [],
   "source": [
    "# Create a function to generate 10% of Salary as Bonus\n",
    "\n",
    "def bonus(salary):\n",
    "    return int(salary) * 0.1"
   ]
  },
  {
   "cell_type": "code",
   "execution_count": 11,
   "id": "3ca09733-5ae7-461f-a8fa-0cbcc4bd8038",
   "metadata": {},
   "outputs": [
    {
     "name": "stderr",
     "output_type": "stream",
     "text": [
      "25/02/16 11:00:13 WARN SimpleFunctionRegistry: The function bonus_sql_udf replaced a previously registered function.\n"
     ]
    },
    {
     "data": {
      "text/plain": [
       "<function __main__.bonus(salary)>"
      ]
     },
     "execution_count": 11,
     "metadata": {},
     "output_type": "execute_result"
    }
   ],
   "source": [
    "# Register as UDF\n",
    "from pyspark.sql.functions import udf\n",
    "\n",
    "bonus_udf = udf(bonus)\n",
    "\n",
    "spark.udf.register(\"bonus_sql_udf\", bonus, \"double\")"
   ]
  },
  {
   "cell_type": "code",
   "execution_count": 12,
   "id": "9ed1bb5f-eae3-45ee-96a8-d52a99475465",
   "metadata": {},
   "outputs": [
    {
     "name": "stderr",
     "output_type": "stream",
     "text": [
      "                                                                                \r"
     ]
    },
    {
     "name": "stdout",
     "output_type": "stream",
     "text": [
      "+-----------+-------------+-------------+---+------+------+----------+------+\n",
      "|employee_id|department_id|         name|age|gender|salary| hire_date| bonus|\n",
      "+-----------+-------------+-------------+---+------+------+----------+------+\n",
      "|        001|          101|     John Doe| 30|  Male| 50000|2015-01-01|5000.0|\n",
      "|        002|          101|   Jane Smith| 25|Female| 45000|2016-02-15|4500.0|\n",
      "|        003|          102|    Bob Brown| 35|  Male| 55000|2014-05-01|5500.0|\n",
      "|        004|          102|    Alice Lee| 28|Female| 48000|2017-09-30|4800.0|\n",
      "|        005|          103|    Jack Chan| 40|  Male| 60000|2013-04-01|6000.0|\n",
      "|        006|          103|    Jill Wong| 32|Female| 52000|2018-07-01|5200.0|\n",
      "|        007|          101|James Johnson| 42|  Male| 70000|2012-03-15|7000.0|\n",
      "|        008|          102|     Kate Kim| 29|Female| 51000|2019-10-01|5100.0|\n",
      "|        009|          103|      Tom Tan| 33|  Male| 58000|2016-06-01|5800.0|\n",
      "|        010|          104|     Lisa Lee| 27|Female| 47000|2018-08-01|4700.0|\n",
      "|        011|          104|   David Park| 38|  Male| 65000|2015-11-01|6500.0|\n",
      "|        012|          105|   Susan Chen| 31|Female| 54000|2017-02-15|5400.0|\n",
      "|        013|          106|    Brian Kim| 45|  Male| 75000|2011-07-01|7500.0|\n",
      "|        014|          107|    Emily Lee| 26|Female| 46000|2019-01-01|4600.0|\n",
      "|        015|          106|  Michael Lee| 37|  Male| 63000|2014-09-30|6300.0|\n",
      "|        016|          107|  Kelly Zhang| 30|Female| 49000|2018-04-01|4900.0|\n",
      "|        017|          105|  George Wang| 34|  Male| 57000|2016-03-15|5700.0|\n",
      "|        018|          104|    Nancy Liu| 29|Female| 50000|2017-06-01|5000.0|\n",
      "|        019|          103|  Steven Chen| 36|  Male| 62000|2015-08-01|6200.0|\n",
      "|        020|          102|    Grace Kim| 32|Female| 53000|2018-11-01|5300.0|\n",
      "+-----------+-------------+-------------+---+------+------+----------+------+\n",
      "\n"
     ]
    }
   ],
   "source": [
    "# Create new column as bonus using UDF\n",
    "from pyspark.sql.functions import expr\n",
    "\n",
    "emp.withColumn(\"bonus\", expr(\"bonus_sql_udf(salary)\")).show()"
   ]
  },
  {
   "cell_type": "code",
   "execution_count": 13,
   "id": "69c2cb11-ee67-4aa0-82ef-7ff9d810f9a6",
   "metadata": {},
   "outputs": [
    {
     "name": "stdout",
     "output_type": "stream",
     "text": [
      "+-----------+-------------+-------------+---+------+------+----------+------+\n",
      "|employee_id|department_id|         name|age|gender|salary| hire_date| bonus|\n",
      "+-----------+-------------+-------------+---+------+------+----------+------+\n",
      "|        001|          101|     John Doe| 30|  Male| 50000|2015-01-01|5000.0|\n",
      "|        002|          101|   Jane Smith| 25|Female| 45000|2016-02-15|4500.0|\n",
      "|        003|          102|    Bob Brown| 35|  Male| 55000|2014-05-01|5500.0|\n",
      "|        004|          102|    Alice Lee| 28|Female| 48000|2017-09-30|4800.0|\n",
      "|        005|          103|    Jack Chan| 40|  Male| 60000|2013-04-01|6000.0|\n",
      "|        006|          103|    Jill Wong| 32|Female| 52000|2018-07-01|5200.0|\n",
      "|        007|          101|James Johnson| 42|  Male| 70000|2012-03-15|7000.0|\n",
      "|        008|          102|     Kate Kim| 29|Female| 51000|2019-10-01|5100.0|\n",
      "|        009|          103|      Tom Tan| 33|  Male| 58000|2016-06-01|5800.0|\n",
      "|        010|          104|     Lisa Lee| 27|Female| 47000|2018-08-01|4700.0|\n",
      "|        011|          104|   David Park| 38|  Male| 65000|2015-11-01|6500.0|\n",
      "|        012|          105|   Susan Chen| 31|Female| 54000|2017-02-15|5400.0|\n",
      "|        013|          106|    Brian Kim| 45|  Male| 75000|2011-07-01|7500.0|\n",
      "|        014|          107|    Emily Lee| 26|Female| 46000|2019-01-01|4600.0|\n",
      "|        015|          106|  Michael Lee| 37|  Male| 63000|2014-09-30|6300.0|\n",
      "|        016|          107|  Kelly Zhang| 30|Female| 49000|2018-04-01|4900.0|\n",
      "|        017|          105|  George Wang| 34|  Male| 57000|2016-03-15|5700.0|\n",
      "|        018|          104|    Nancy Liu| 29|Female| 50000|2017-06-01|5000.0|\n",
      "|        019|          103|  Steven Chen| 36|  Male| 62000|2015-08-01|6200.0|\n",
      "|        020|          102|    Grace Kim| 32|Female| 53000|2018-11-01|5300.0|\n",
      "+-----------+-------------+-------------+---+------+------+----------+------+\n",
      "\n"
     ]
    }
   ],
   "source": [
    "# Create new column as bonus without UDF\n",
    "\n",
    "emp.withColumn(\"bonus\", expr(\"salary * 0.1\")).show()"
   ]
  },
  {
   "cell_type": "code",
   "execution_count": 14,
   "id": "5725219a-b887-4b86-8bfa-d40d64f0cbb3",
   "metadata": {},
   "outputs": [],
   "source": [
    "spark.stop()"
   ]
  }
 ],
 "metadata": {
  "kernelspec": {
   "display_name": "Python 3 (ipykernel)",
   "language": "python",
   "name": "python3"
  },
  "language_info": {
   "codemirror_mode": {
    "name": "ipython",
    "version": 3
   },
   "file_extension": ".py",
   "mimetype": "text/x-python",
   "name": "python",
   "nbconvert_exporter": "python",
   "pygments_lexer": "ipython3",
   "version": "3.11.0"
  },
  "toc-autonumbering": true,
  "toc-showmarkdowntxt": true,
  "toc-showtags": true
 },
 "nbformat": 4,
 "nbformat_minor": 5
}
