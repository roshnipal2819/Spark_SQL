{
 "cells": [
  {
   "cell_type": "code",
   "execution_count": 50,
   "id": "2251cadc-e1b0-4d86-b54f-17ca08ccd006",
   "metadata": {},
   "outputs": [
    {
     "name": "stdout",
     "output_type": "stream",
     "text": [
      "http://gypsum-gpu171.unity.rc.umass.edu:4042\n"
     ]
    },
    {
     "data": {
      "text/html": [
       "\n",
       "            <div>\n",
       "                <p><b>SparkSession - in-memory</b></p>\n",
       "                \n",
       "        <div>\n",
       "            <p><b>SparkContext</b></p>\n",
       "\n",
       "            <p><a href=\"http://gypsum-gpu171.unity.rc.umass.edu:4042\">Spark UI</a></p>\n",
       "\n",
       "            <dl>\n",
       "              <dt>Version</dt>\n",
       "                <dd><code>v3.5.4</code></dd>\n",
       "              <dt>Master</dt>\n",
       "                <dd><code>local[*]</code></dd>\n",
       "              <dt>AppName</dt>\n",
       "                <dd><code>Complex_Data_Format</code></dd>\n",
       "            </dl>\n",
       "        </div>\n",
       "        \n",
       "            </div>\n",
       "        "
      ],
      "text/plain": [
       "<pyspark.sql.session.SparkSession at 0x7b5310b93890>"
      ]
     },
     "execution_count": 50,
     "metadata": {},
     "output_type": "execute_result"
    }
   ],
   "source": [
    "from pyspark.sql import SparkSession\n",
    "\n",
    "spark = SparkSession.builder.appName(\"modes_and_options\").master(\"local[*]\").config(\"spark.ui.port\", \"4042\").getOrCreate()\n",
    "print(spark.sparkContext.uiWebUrl)\n",
    "spark"
   ]
  },
  {
   "cell_type": "code",
   "execution_count": 68,
   "id": "3b814622-ea63-44bc-b2d5-1170939e6f58",
   "metadata": {},
   "outputs": [],
   "source": [
    "# Read Parquet\n",
    "df_total= spark.read.format(\"parquet\").load(\"data/sales_total_parquet/*.parquet\")"
   ]
  },
  {
   "cell_type": "code",
   "execution_count": 69,
   "id": "775dfd6f-d3a8-4f5d-97fc-f53f337fe0cf",
   "metadata": {},
   "outputs": [
    {
     "name": "stdout",
     "output_type": "stream",
     "text": [
      "root\n",
      " |-- transacted_at: timestamp (nullable = true)\n",
      " |-- trx_id: integer (nullable = true)\n",
      " |-- retailer_id: integer (nullable = true)\n",
      " |-- description: string (nullable = true)\n",
      " |-- amount: double (nullable = true)\n",
      " |-- city_id: integer (nullable = true)\n",
      "\n"
     ]
    }
   ],
   "source": [
    "df_total.printSchema()"
   ]
  },
  {
   "cell_type": "code",
   "execution_count": 70,
   "id": "2a5b254b-7ce9-4679-8d45-3d93282675ca",
   "metadata": {},
   "outputs": [
    {
     "name": "stdout",
     "output_type": "stream",
     "text": [
      "+-------------------+----------+-----------+--------------------+-------+----------+\n",
      "|      transacted_at|    trx_id|retailer_id|         description| amount|   city_id|\n",
      "+-------------------+----------+-----------+--------------------+-------+----------+\n",
      "|2017-12-27 19:00:00| 330765426|  887300947|Kroger   ccd id: ...|  33.56|2068475652|\n",
      "|2017-11-26 21:00:00|1377679664| 1070485878|Amazon.com    ccd...|  24.43|1640819540|\n",
      "|2017-12-12 23:00:00| 472018705| 2001148981|  unkn      Columbia|   1.24| 481821583|\n",
      "|2017-05-19 19:00:00|1127671830|  847200066|            Wal-Mart|2155.48|2074005445|\n",
      "|2017-11-17 21:00:00| 233137169|  847200066|            Wal-Mart|   4.13|2043825401|\n",
      "|2017-12-15 12:00:00| 603124844|  887300947|Kroger   ccd id: ...|  31.92|1640819540|\n",
      "|2017-11-08 12:00:00|1591888712|  143327090|  Menard       11-08|   42.3|2043825401|\n",
      "|2017-12-23 12:00:00|1775468459|  887300947|Kroger  arc id: 1...|  284.8|2055198208|\n",
      "|2017-09-01 13:00:00|1020833609| 2120842315|Burger King   ccd...|   20.2|1141716004|\n",
      "|2017-11-30 12:00:00|1714628652| 1898522855|Target    ppd id:...| 488.42| 569532635|\n",
      "|2017-11-26 23:00:00|1533320464|   62988535|Bed Bath & Beyond...|    6.1|1098014353|\n",
      "|2017-11-28 21:00:00|2057742958|  562903918|McDonald's     pp...|2051.68|1487857621|\n",
      "|2017-01-25 19:00:00| 123604891|  847200066|Wal-Mart    ccd i...|  23.53|  45522086|\n",
      "|2017-05-21 21:00:00|1660120794|  865681996|Nordstrom     arc...| 708.81|  28424447|\n",
      "|2017-12-18 22:00:00|1882911667|  997626433|Sears        Anka...| 160.29|1698762556|\n",
      "|2017-11-24 20:00:00| 734317675|  511877722|Best Buy    arc i...| 1104.7|2001708947|\n",
      "|2017-12-21 18:00:00| 513313448|  887300947|unkn    arc id: 9...|   32.7|2023698313|\n",
      "|2017-12-13 19:00:00|1380128813|  582210968|unkn     ppd id: ...|  19.88|1359730291|\n",
      "|2017-11-15 20:00:00| 941860469|  887300947|Kroger     arc id...|  55.69|  31398417|\n",
      "|2017-12-06 23:00:00|1957163946|  400404203|unkn   arc id: 97...|   9.24|1284771958|\n",
      "+-------------------+----------+-----------+--------------------+-------+----------+\n",
      "only showing top 20 rows\n",
      "\n"
     ]
    }
   ],
   "source": [
    "df_total.show()"
   ]
  },
  {
   "cell_type": "code",
   "execution_count": 78,
   "id": "fe266ac5-a2b0-4173-8569-f7ec3cabb75b",
   "metadata": {},
   "outputs": [],
   "source": [
    "# Read ORC Sales data\n",
    "\n",
    "df_orc = spark.read.format(\"orc\").load(\"data/sales_total_orc/*.orc\")"
   ]
  },
  {
   "cell_type": "code",
   "execution_count": 79,
   "id": "cfee82e7-d614-458e-bedf-827baa29dae7",
   "metadata": {},
   "outputs": [
    {
     "name": "stdout",
     "output_type": "stream",
     "text": [
      "root\n",
      " |-- transacted_at: timestamp (nullable = true)\n",
      " |-- trx_id: integer (nullable = true)\n",
      " |-- retailer_id: integer (nullable = true)\n",
      " |-- description: string (nullable = true)\n",
      " |-- amount: double (nullable = true)\n",
      " |-- city_id: integer (nullable = true)\n",
      "\n"
     ]
    }
   ],
   "source": [
    "df_orc.printSchema()"
   ]
  },
  {
   "cell_type": "code",
   "execution_count": 80,
   "id": "f394da8a-e28d-4191-8446-4e6f8d68ea58",
   "metadata": {},
   "outputs": [
    {
     "name": "stdout",
     "output_type": "stream",
     "text": [
      "+-------------------+----------+-----------+--------------------+-------+----------+\n",
      "|      transacted_at|    trx_id|retailer_id|         description| amount|   city_id|\n",
      "+-------------------+----------+-----------+--------------------+-------+----------+\n",
      "|2017-12-27 19:00:00| 330765426|  887300947|Kroger   ccd id: ...|  33.56|2068475652|\n",
      "|2017-11-26 21:00:00|1377679664| 1070485878|Amazon.com    ccd...|  24.43|1640819540|\n",
      "|2017-12-12 23:00:00| 472018705| 2001148981|  unkn      Columbia|   1.24| 481821583|\n",
      "|2017-05-19 19:00:00|1127671830|  847200066|            Wal-Mart|2155.48|2074005445|\n",
      "|2017-11-17 21:00:00| 233137169|  847200066|            Wal-Mart|   4.13|2043825401|\n",
      "|2017-12-15 12:00:00| 603124844|  887300947|Kroger   ccd id: ...|  31.92|1640819540|\n",
      "|2017-11-08 12:00:00|1591888712|  143327090|  Menard       11-08|   42.3|2043825401|\n",
      "|2017-12-23 12:00:00|1775468459|  887300947|Kroger  arc id: 1...|  284.8|2055198208|\n",
      "|2017-09-01 13:00:00|1020833609| 2120842315|Burger King   ccd...|   20.2|1141716004|\n",
      "|2017-11-30 12:00:00|1714628652| 1898522855|Target    ppd id:...| 488.42| 569532635|\n",
      "|2017-11-26 23:00:00|1533320464|   62988535|Bed Bath & Beyond...|    6.1|1098014353|\n",
      "|2017-11-28 21:00:00|2057742958|  562903918|McDonald's     pp...|2051.68|1487857621|\n",
      "|2017-01-25 19:00:00| 123604891|  847200066|Wal-Mart    ccd i...|  23.53|  45522086|\n",
      "|2017-05-21 21:00:00|1660120794|  865681996|Nordstrom     arc...| 708.81|  28424447|\n",
      "|2017-12-18 22:00:00|1882911667|  997626433|Sears        Anka...| 160.29|1698762556|\n",
      "|2017-11-24 20:00:00| 734317675|  511877722|Best Buy    arc i...| 1104.7|2001708947|\n",
      "|2017-12-21 18:00:00| 513313448|  887300947|unkn    arc id: 9...|   32.7|2023698313|\n",
      "|2017-12-13 19:00:00|1380128813|  582210968|unkn     ppd id: ...|  19.88|1359730291|\n",
      "|2017-11-15 20:00:00| 941860469|  887300947|Kroger     arc id...|  55.69|  31398417|\n",
      "|2017-12-06 23:00:00|1957163946|  400404203|unkn   arc id: 97...|   9.24|1284771958|\n",
      "+-------------------+----------+-----------+--------------------+-------+----------+\n",
      "only showing top 20 rows\n",
      "\n"
     ]
    }
   ],
   "source": [
    "df_orc.show()"
   ]
  },
  {
   "cell_type": "code",
   "execution_count": 88,
   "id": "e15e2d22-484a-47cc-8dc7-6f284150c508",
   "metadata": {},
   "outputs": [],
   "source": [
    "# Benefits of Columnar Storage\n",
    "\n",
    "# Lets create a simple Python decorator - {get_time} to get the execution timings\n",
    "# If you dont know about Python decorators - check out : https://www.geeksforgeeks.org/decorators-in-python/\n",
    "import time\n",
    "\n",
    "def get_time(func):\n",
    "    def inner_get_time() -> str:\n",
    "        start_time = time.time()\n",
    "        func()\n",
    "        end_time = time.time()\n",
    "        return (f\"Execution time: {(end_time - start_time)*1000} ms\")\n",
    "    print(inner_get_time())"
   ]
  },
  {
   "cell_type": "code",
   "execution_count": 90,
   "id": "a1891676-a83c-4172-8fea-653c7d9d0544",
   "metadata": {},
   "outputs": [
    {
     "name": "stdout",
     "output_type": "stream",
     "text": [
      "Execution time: 293.5824394226074 ms\n"
     ]
    }
   ],
   "source": [
    "@get_time\n",
    "def x():\n",
    "    df = spark.read.format(\"parquet\").load(\"data/sales_data.parquet\")\n",
    "    df.count()"
   ]
  },
  {
   "cell_type": "code",
   "execution_count": 91,
   "id": "9b13415a-56d6-46e3-bd5c-d0f49034a7b5",
   "metadata": {},
   "outputs": [
    {
     "name": "stdout",
     "output_type": "stream",
     "text": [
      "Execution time: 187.99686431884766 ms\n"
     ]
    }
   ],
   "source": [
    "@get_time\n",
    "def x():\n",
    "    df = spark.read.format(\"parquet\").load(\"data/sales_data.parquet\")\n",
    "    df.select(\"trx_id\").count()"
   ]
  },
  {
   "cell_type": "code",
   "execution_count": 94,
   "id": "97b699af-38f7-4a98-ae63-4e52be325cfe",
   "metadata": {},
   "outputs": [
    {
     "name": "stdout",
     "output_type": "stream",
     "text": [
      "+-------------------+----------+-----------+--------------------+------+---------+\n",
      "|      transacted_at|    trx_id|retailer_id|         description|amount|  city_id|\n",
      "+-------------------+----------+-----------+--------------------+------+---------+\n",
      "|2017-11-24 19:00:00|1734117021|  644879053|unkn    ppd id: 7...|  8.58|930259917|\n",
      "+-------------------+----------+-----------+--------------------+------+---------+\n",
      "\n"
     ]
    }
   ],
   "source": [
    "df_1 = spark.read.format(\"parquet\").load(\"data/sales_recursive/1.parquet\")\n",
    "df_1.show()"
   ]
  },
  {
   "cell_type": "code",
   "execution_count": 95,
   "id": "c080ec89-19b1-4dc4-b195-5bf65cb8c7cb",
   "metadata": {},
   "outputs": [
    {
     "name": "stdout",
     "output_type": "stream",
     "text": [
      "+-------------------+----------+-----------+--------------------+------+--------+\n",
      "|      transacted_at|    trx_id|retailer_id|         description|amount| city_id|\n",
      "+-------------------+----------+-----------+--------------------+------+--------+\n",
      "|2017-11-24 19:00:00|1734117123| 1953761884|unkn   ppd id: 15...| 19.55|45522086|\n",
      "+-------------------+----------+-----------+--------------------+------+--------+\n",
      "\n"
     ]
    }
   ],
   "source": [
    "df_1 = spark.read.format(\"parquet\").load(\"data/sales_recursive/2.parquet\")\n",
    "df_1.show()"
   ]
  },
  {
   "cell_type": "code",
   "execution_count": 99,
   "id": "fe16ac06-06e1-4685-92e7-3b82c25f825a",
   "metadata": {},
   "outputs": [
    {
     "name": "stdout",
     "output_type": "stream",
     "text": [
      "+-------------------+----------+-----------+--------------------+------+---------+\n",
      "|      transacted_at|    trx_id|retailer_id|         description|amount|  city_id|\n",
      "+-------------------+----------+-----------+--------------------+------+---------+\n",
      "|2017-11-24 19:00:00|1734117123| 1953761884|unkn   ppd id: 15...| 19.55| 45522086|\n",
      "|2017-11-24 19:00:00|1734117021|  644879053|unkn    ppd id: 7...|  8.58|930259917|\n",
      "+-------------------+----------+-----------+--------------------+------+---------+\n",
      "\n"
     ]
    }
   ],
   "source": [
    "df_1 = spark.read.format(\"parquet\").option(\"recursiveFileLookup\", True).load(\"data/sales_recursive/\")\n",
    "df_1.show()"
   ]
  }
 ],
 "metadata": {
  "kernelspec": {
   "display_name": "Python 3 (ipykernel)",
   "language": "python",
   "name": "python3"
  },
  "language_info": {
   "codemirror_mode": {
    "name": "ipython",
    "version": 3
   },
   "file_extension": ".py",
   "mimetype": "text/x-python",
   "name": "python",
   "nbconvert_exporter": "python",
   "pygments_lexer": "ipython3",
   "version": "3.11.0"
  },
  "toc-autonumbering": true,
  "toc-showmarkdowntxt": true,
  "toc-showtags": true
 },
 "nbformat": 4,
 "nbformat_minor": 5
}
